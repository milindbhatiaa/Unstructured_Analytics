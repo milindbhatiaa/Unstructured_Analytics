{
 "cells": [
  {
   "cell_type": "code",
   "execution_count": 2,
   "id": "b0495c79",
   "metadata": {},
   "outputs": [],
   "source": [
    "import pandas as pd\n",
    "\n",
    "# Load the models and brands mapping\n",
    "mapping_df = pd.read_csv('car_models_and_brands.csv')\n",
    "\n",
    "# Load the data from Data Scrapper Code\n",
    "data_df = pd.read_csv('final_data (1).csv')\n",
    "\n",
    "# Create a dictionary for mapping models to brands\n",
    "model_to_brand = {}\n",
    "for _, row in mapping_df.iterrows():\n",
    "    brand = row['Brand']\n",
    "    models = row['Model'].split('|')\n",
    "    for model in models:\n",
    "        model_to_brand[model] = brand"
   ]
  },
  {
   "cell_type": "code",
   "execution_count": 3,
   "id": "45b169ec",
   "metadata": {},
   "outputs": [],
   "source": [
    "# Define the replacement for models to brand\n",
    "import re\n",
    "\n",
    "def replace_models_with_brands(text):\n",
    "    if isinstance(text, str):  # Check if the value is a string\n",
    "        words = re.split(r'[ ,]', text.lower())  # Split on space or comma\n",
    "        for i in range(len(words)):\n",
    "            if words[i] in model_to_brand:\n",
    "                words[i] = model_to_brand[words[i]]\n",
    "        return ' '.join(words)\n",
    "    else:\n",
    "        return text  # Return the original value for non-string (NaN) values"
   ]
  },
  {
   "cell_type": "code",
   "execution_count": 4,
   "id": "a77d6c3f",
   "metadata": {},
   "outputs": [],
   "source": [
    "# Apply the replacement function to the relevant column in data_df\n",
    "data_df['Comment'] = data_df['Comment'].apply(replace_models_with_brands)\n",
    "\n",
    "# Save the modified data to B_modified.csv\n",
    "data_df.to_csv('B_modified.csv', index=False)"
   ]
  },
  {
   "cell_type": "code",
   "execution_count": 5,
   "id": "397eb9e8",
   "metadata": {},
   "outputs": [],
   "source": [
    "# Load the models and brands mapping from A.csv\n",
    "df = pd.read_csv('B_modified.csv')"
   ]
  },
  {
   "cell_type": "code",
   "execution_count": 6,
   "id": "f21391a2",
   "metadata": {
    "scrolled": true
   },
   "outputs": [],
   "source": [
    "# Create a new dataset with the \"Comment\" column\n",
    "comment_dataset = df['Comment']\n",
    "\n",
    "# Filter out non-string values from the \"Comment\" column\n",
    "comment_dataset = df[df['Comment'].apply(lambda x: isinstance(x, str))]['Comment']"
   ]
  },
  {
   "cell_type": "code",
   "execution_count": 7,
   "id": "da79c25c",
   "metadata": {},
   "outputs": [
    {
     "name": "stderr",
     "output_type": "stream",
     "text": [
      "[nltk_data] Downloading package stopwords to\n",
      "[nltk_data]     C:\\Users\\megha\\AppData\\Roaming\\nltk_data...\n",
      "[nltk_data]   Package stopwords is already up-to-date!\n"
     ]
    }
   ],
   "source": [
    "from collections import Counter\n",
    "import nltk\n",
    "from nltk.corpus import stopwords\n",
    "\n",
    "# Download the stopwords dataset\n",
    "nltk.download('stopwords')\n",
    "\n",
    "# Load stopwords from NLTK\n",
    "stop_words = set(stopwords.words('english')) "
   ]
  },
  {
   "cell_type": "code",
   "execution_count": 8,
   "id": "3627b4dd",
   "metadata": {},
   "outputs": [],
   "source": [
    "# Function to preprocess text\n",
    "def preprocess_text(text):\n",
    "    words = re.findall(r'\\b\\w+\\b', text.lower())\n",
    "    filtered_words = [word for word in words if word not in stop_words]\n",
    "    return filtered_words"
   ]
  },
  {
   "cell_type": "code",
   "execution_count": 9,
   "id": "20d1276b",
   "metadata": {},
   "outputs": [],
   "source": [
    "# Initialize a dictionary to store brand counts\n",
    "brand_counts = {}\n",
    "# Exclude specific brands\n",
    "excluded_brands = ['car', 'seat', 'problem']\n",
    "filtered_brands = set(list(brand for brand in model_to_brand.values() if brand not in excluded_brands))"
   ]
  },
  {
   "cell_type": "code",
   "execution_count": 54,
   "id": "c6c140da",
   "metadata": {},
   "outputs": [],
   "source": [
    "# Iterate through the comments, replace models with brands, and count brand frequencies\n",
    "brand_frequencies = {}\n",
    "for comment in comment_dataset:\n",
    "    words = preprocess_text(comment)\n",
    "    mentioned_brands = set()\n",
    "    for brand in filtered_brands:\n",
    "        for word in words:\n",
    "            if word in filtered_brands:\n",
    "                mentioned_brands.add(word)\n",
    "                break\n",
    "    for brand in mentioned_brands:\n",
    "        if brand in brand_frequencies:\n",
    "             brand_frequencies[brand] += 1\n",
    "        else:\n",
    "            brand_frequencies[brand] = 1"
   ]
  },
  {
   "cell_type": "code",
   "execution_count": 55,
   "id": "11ecac7c",
   "metadata": {},
   "outputs": [
    {
     "data": {
      "text/plain": [
       "[('bmw', 1165),\n",
       " ('acura', 770),\n",
       " ('audi', 706),\n",
       " ('honda', 472),\n",
       " ('infiniti', 170),\n",
       " ('cadillac', 166),\n",
       " ('dodge', 145),\n",
       " ('toyota', 129),\n",
       " ('volkswagen', 124),\n",
       " ('sedan', 118)]"
      ]
     },
     "execution_count": 55,
     "metadata": {},
     "output_type": "execute_result"
    }
   ],
   "source": [
    "# Identify the top 10 brands by frequency\n",
    "top_brands = sorted(brand_frequencies.items(), key=lambda x: x[1], reverse=True)[:10]\n",
    "top_brands"
   ]
  }
 ],
 "metadata": {
  "kernelspec": {
   "display_name": "Python 3 (ipykernel)",
   "language": "python",
   "name": "python3"
  },
  "language_info": {
   "codemirror_mode": {
    "name": "ipython",
    "version": 3
   },
   "file_extension": ".py",
   "mimetype": "text/x-python",
   "name": "python",
   "nbconvert_exporter": "python",
   "pygments_lexer": "ipython3",
   "version": "3.9.17"
  }
 },
 "nbformat": 4,
 "nbformat_minor": 5
}
